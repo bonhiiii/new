{
 "cells": [
  {
   "cell_type": "code",
   "execution_count": 2,
   "metadata": {},
   "outputs": [
    {
     "name": "stdout",
     "output_type": "stream",
     "text": [
      "hello world\n"
     ]
    }
   ],
   "source": [
    "# There is no repo initialized here\n",
    "# Git works like this -> \n",
    "# Initialize a repo on local machine\n",
    "# Add files using \"git add .\"\n",
    "# Use 'git commit -m \"some message\"'\n",
    "# use 'git remote add origin \"Link to github repo\"'\n",
    "# The above command links your local repo with the online github repo\n",
    "# use 'git push -u origin master' (master is the default branch name)\n",
    "print('hello world')"
   ]
  },
  {
   "attachments": {},
   "cell_type": "markdown",
   "metadata": {},
   "source": [
    "We will use \"git remote add origin https://github.com/bonhiiii/new.git\" as our online connection here.\n",
    "\n",
    "Your Ctrl + ~ -> Terminal shortcut works"
   ]
  },
  {
   "attachments": {},
   "cell_type": "markdown",
   "metadata": {},
   "source": [
    "Look carefully that the hello.ipynb file has a 'U' symbol beside it. That means that this file is 'untracked' by the git system, but is inside a folder that is a git repository(where you have used 'git init' command). "
   ]
  },
  {
   "attachments": {},
   "cell_type": "markdown",
   "metadata": {},
   "source": [
    "Use 'git add .' - to 'track' all untracked files"
   ]
  },
  {
   "attachments": {},
   "cell_type": "markdown",
   "metadata": {},
   "source": [
    "See again, the symbol has changed from 'U' to 'A'"
   ]
  },
  {
   "attachments": {},
   "cell_type": "markdown",
   "metadata": {},
   "source": [
    "Now we are ready to commit this change."
   ]
  },
  {
   "attachments": {},
   "cell_type": "markdown",
   "metadata": {},
   "source": [
    "The default 'branch' name is 'master' in git. But due to political issues they are now changing this name to 'main'. You can change branch name using,\n",
    "'git branch -M \"branch_name\"'"
   ]
  },
  {
   "attachments": {},
   "cell_type": "markdown",
   "metadata": {},
   "source": [
    "Now look that our documentation here is not completely on github. Because we forgot to save the file before adding and commiting. Once a file is added, you don't need to add it again using 'git add'. These files will have a symbol 'M' signifying 'Modified'."
   ]
  },
  {
   "attachments": {},
   "cell_type": "markdown",
   "metadata": {},
   "source": [
    "Maybe sometimes you always neeed to use 'git add .'"
   ]
  },
  {
   "cell_type": "markdown",
   "metadata": {},
   "source": []
  }
 ],
 "metadata": {
  "kernelspec": {
   "display_name": "Python 3",
   "language": "python",
   "name": "python3"
  },
  "language_info": {
   "codemirror_mode": {
    "name": "ipython",
    "version": 3
   },
   "file_extension": ".py",
   "mimetype": "text/x-python",
   "name": "python",
   "nbconvert_exporter": "python",
   "pygments_lexer": "ipython3",
   "version": "3.10.1 (tags/v3.10.1:2cd268a, Dec  6 2021, 19:10:37) [MSC v.1929 64 bit (AMD64)]"
  },
  "orig_nbformat": 4,
  "vscode": {
   "interpreter": {
    "hash": "de66d7802e14fb2e8694b63e255d0fe3514f0a531cbbfb87d1ecc51a74f4db4d"
   }
  }
 },
 "nbformat": 4,
 "nbformat_minor": 2
}
